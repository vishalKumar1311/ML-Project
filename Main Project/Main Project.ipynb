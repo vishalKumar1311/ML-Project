{
 "cells": [
  {
   "cell_type": "markdown",
   "id": "2c1837d5",
   "metadata": {},
   "source": [
    "**NAME:VISHAL KUMAR**   \n"
   ]
  },
  {
   "cell_type": "markdown",
   "id": "0ce671fe",
   "metadata": {},
   "source": [
    "**SIC 190320016**"
   ]
  },
  {
   "cell_type": "markdown",
   "id": "fe0e25a8",
   "metadata": {},
   "source": [
    "**MAJOR PROJECT**"
   ]
  },
  {
   "cell_type": "markdown",
   "id": "1cd877c5",
   "metadata": {},
   "source": [
    "**TOPIC:  Heart Attack Analysis & Prediction**"
   ]
  },
  {
   "cell_type": "markdown",
   "id": "5d3ee4e1",
   "metadata": {},
   "source": [
    "**DATA PREPROCESSING**"
   ]
  },
  {
   "cell_type": "code",
   "execution_count": 1,
   "id": "41c9e1c3",
   "metadata": {},
   "outputs": [],
   "source": [
    "import numpy as np\n",
    "import matplotlib.pyplot as plt\n",
    "import pandas as pd"
   ]
  },
  {
   "cell_type": "markdown",
   "id": "e7f21cd7",
   "metadata": {},
   "source": [
    "**IMPORTING THE DATASET**"
   ]
  },
  {
   "cell_type": "code",
   "execution_count": null,
   "id": "10720822",
   "metadata": {},
   "outputs": [],
   "source": []
  },
  {
   "cell_type": "code",
   "execution_count": 2,
   "id": "e6d720d7",
   "metadata": {},
   "outputs": [],
   "source": [
    "dataset=pd.read_csv('heart.csv')"
   ]
  },
  {
   "cell_type": "code",
   "execution_count": 3,
   "id": "2f592e4b",
   "metadata": {},
   "outputs": [
    {
     "name": "stdout",
     "output_type": "stream",
     "text": [
      "<class 'pandas.core.frame.DataFrame'>\n",
      "RangeIndex: 303 entries, 0 to 302\n",
      "Data columns (total 14 columns):\n",
      " #   Column    Non-Null Count  Dtype  \n",
      "---  ------    --------------  -----  \n",
      " 0   age       303 non-null    int64  \n",
      " 1   sex       303 non-null    int64  \n",
      " 2   cp        303 non-null    int64  \n",
      " 3   trtbps    303 non-null    int64  \n",
      " 4   chol      303 non-null    int64  \n",
      " 5   fbs       303 non-null    int64  \n",
      " 6   restecg   303 non-null    int64  \n",
      " 7   thalachh  303 non-null    int64  \n",
      " 8   exng      303 non-null    int64  \n",
      " 9   oldpeak   303 non-null    float64\n",
      " 10  slp       303 non-null    int64  \n",
      " 11  caa       303 non-null    int64  \n",
      " 12  thall     303 non-null    int64  \n",
      " 13  output    303 non-null    int64  \n",
      "dtypes: float64(1), int64(13)\n",
      "memory usage: 33.3 KB\n"
     ]
    }
   ],
   "source": [
    "dataset.info()"
   ]
  },
  {
   "cell_type": "code",
   "execution_count": 4,
   "id": "d5b63197",
   "metadata": {},
   "outputs": [
    {
     "data": {
      "text/html": [
       "<div>\n",
       "<style scoped>\n",
       "    .dataframe tbody tr th:only-of-type {\n",
       "        vertical-align: middle;\n",
       "    }\n",
       "\n",
       "    .dataframe tbody tr th {\n",
       "        vertical-align: top;\n",
       "    }\n",
       "\n",
       "    .dataframe thead th {\n",
       "        text-align: right;\n",
       "    }\n",
       "</style>\n",
       "<table border=\"1\" class=\"dataframe\">\n",
       "  <thead>\n",
       "    <tr style=\"text-align: right;\">\n",
       "      <th></th>\n",
       "      <th>age</th>\n",
       "      <th>sex</th>\n",
       "      <th>cp</th>\n",
       "      <th>trtbps</th>\n",
       "      <th>chol</th>\n",
       "      <th>fbs</th>\n",
       "      <th>restecg</th>\n",
       "      <th>thalachh</th>\n",
       "      <th>exng</th>\n",
       "      <th>oldpeak</th>\n",
       "      <th>slp</th>\n",
       "      <th>caa</th>\n",
       "      <th>thall</th>\n",
       "      <th>output</th>\n",
       "    </tr>\n",
       "  </thead>\n",
       "  <tbody>\n",
       "    <tr>\n",
       "      <th>0</th>\n",
       "      <td>63</td>\n",
       "      <td>1</td>\n",
       "      <td>3</td>\n",
       "      <td>145</td>\n",
       "      <td>233</td>\n",
       "      <td>1</td>\n",
       "      <td>0</td>\n",
       "      <td>150</td>\n",
       "      <td>0</td>\n",
       "      <td>2.3</td>\n",
       "      <td>0</td>\n",
       "      <td>0</td>\n",
       "      <td>1</td>\n",
       "      <td>1</td>\n",
       "    </tr>\n",
       "    <tr>\n",
       "      <th>1</th>\n",
       "      <td>37</td>\n",
       "      <td>1</td>\n",
       "      <td>2</td>\n",
       "      <td>130</td>\n",
       "      <td>250</td>\n",
       "      <td>0</td>\n",
       "      <td>1</td>\n",
       "      <td>187</td>\n",
       "      <td>0</td>\n",
       "      <td>3.5</td>\n",
       "      <td>0</td>\n",
       "      <td>0</td>\n",
       "      <td>2</td>\n",
       "      <td>1</td>\n",
       "    </tr>\n",
       "    <tr>\n",
       "      <th>2</th>\n",
       "      <td>41</td>\n",
       "      <td>0</td>\n",
       "      <td>1</td>\n",
       "      <td>130</td>\n",
       "      <td>204</td>\n",
       "      <td>0</td>\n",
       "      <td>0</td>\n",
       "      <td>172</td>\n",
       "      <td>0</td>\n",
       "      <td>1.4</td>\n",
       "      <td>2</td>\n",
       "      <td>0</td>\n",
       "      <td>2</td>\n",
       "      <td>1</td>\n",
       "    </tr>\n",
       "    <tr>\n",
       "      <th>3</th>\n",
       "      <td>56</td>\n",
       "      <td>1</td>\n",
       "      <td>1</td>\n",
       "      <td>120</td>\n",
       "      <td>236</td>\n",
       "      <td>0</td>\n",
       "      <td>1</td>\n",
       "      <td>178</td>\n",
       "      <td>0</td>\n",
       "      <td>0.8</td>\n",
       "      <td>2</td>\n",
       "      <td>0</td>\n",
       "      <td>2</td>\n",
       "      <td>1</td>\n",
       "    </tr>\n",
       "    <tr>\n",
       "      <th>4</th>\n",
       "      <td>57</td>\n",
       "      <td>0</td>\n",
       "      <td>0</td>\n",
       "      <td>120</td>\n",
       "      <td>354</td>\n",
       "      <td>0</td>\n",
       "      <td>1</td>\n",
       "      <td>163</td>\n",
       "      <td>1</td>\n",
       "      <td>0.6</td>\n",
       "      <td>2</td>\n",
       "      <td>0</td>\n",
       "      <td>2</td>\n",
       "      <td>1</td>\n",
       "    </tr>\n",
       "    <tr>\n",
       "      <th>...</th>\n",
       "      <td>...</td>\n",
       "      <td>...</td>\n",
       "      <td>...</td>\n",
       "      <td>...</td>\n",
       "      <td>...</td>\n",
       "      <td>...</td>\n",
       "      <td>...</td>\n",
       "      <td>...</td>\n",
       "      <td>...</td>\n",
       "      <td>...</td>\n",
       "      <td>...</td>\n",
       "      <td>...</td>\n",
       "      <td>...</td>\n",
       "      <td>...</td>\n",
       "    </tr>\n",
       "    <tr>\n",
       "      <th>298</th>\n",
       "      <td>57</td>\n",
       "      <td>0</td>\n",
       "      <td>0</td>\n",
       "      <td>140</td>\n",
       "      <td>241</td>\n",
       "      <td>0</td>\n",
       "      <td>1</td>\n",
       "      <td>123</td>\n",
       "      <td>1</td>\n",
       "      <td>0.2</td>\n",
       "      <td>1</td>\n",
       "      <td>0</td>\n",
       "      <td>3</td>\n",
       "      <td>0</td>\n",
       "    </tr>\n",
       "    <tr>\n",
       "      <th>299</th>\n",
       "      <td>45</td>\n",
       "      <td>1</td>\n",
       "      <td>3</td>\n",
       "      <td>110</td>\n",
       "      <td>264</td>\n",
       "      <td>0</td>\n",
       "      <td>1</td>\n",
       "      <td>132</td>\n",
       "      <td>0</td>\n",
       "      <td>1.2</td>\n",
       "      <td>1</td>\n",
       "      <td>0</td>\n",
       "      <td>3</td>\n",
       "      <td>0</td>\n",
       "    </tr>\n",
       "    <tr>\n",
       "      <th>300</th>\n",
       "      <td>68</td>\n",
       "      <td>1</td>\n",
       "      <td>0</td>\n",
       "      <td>144</td>\n",
       "      <td>193</td>\n",
       "      <td>1</td>\n",
       "      <td>1</td>\n",
       "      <td>141</td>\n",
       "      <td>0</td>\n",
       "      <td>3.4</td>\n",
       "      <td>1</td>\n",
       "      <td>2</td>\n",
       "      <td>3</td>\n",
       "      <td>0</td>\n",
       "    </tr>\n",
       "    <tr>\n",
       "      <th>301</th>\n",
       "      <td>57</td>\n",
       "      <td>1</td>\n",
       "      <td>0</td>\n",
       "      <td>130</td>\n",
       "      <td>131</td>\n",
       "      <td>0</td>\n",
       "      <td>1</td>\n",
       "      <td>115</td>\n",
       "      <td>1</td>\n",
       "      <td>1.2</td>\n",
       "      <td>1</td>\n",
       "      <td>1</td>\n",
       "      <td>3</td>\n",
       "      <td>0</td>\n",
       "    </tr>\n",
       "    <tr>\n",
       "      <th>302</th>\n",
       "      <td>57</td>\n",
       "      <td>0</td>\n",
       "      <td>1</td>\n",
       "      <td>130</td>\n",
       "      <td>236</td>\n",
       "      <td>0</td>\n",
       "      <td>0</td>\n",
       "      <td>174</td>\n",
       "      <td>0</td>\n",
       "      <td>0.0</td>\n",
       "      <td>1</td>\n",
       "      <td>1</td>\n",
       "      <td>2</td>\n",
       "      <td>0</td>\n",
       "    </tr>\n",
       "  </tbody>\n",
       "</table>\n",
       "<p>303 rows × 14 columns</p>\n",
       "</div>"
      ],
      "text/plain": [
       "     age  sex  cp  trtbps  chol  fbs  restecg  thalachh  exng  oldpeak  slp  \\\n",
       "0     63    1   3     145   233    1        0       150     0      2.3    0   \n",
       "1     37    1   2     130   250    0        1       187     0      3.5    0   \n",
       "2     41    0   1     130   204    0        0       172     0      1.4    2   \n",
       "3     56    1   1     120   236    0        1       178     0      0.8    2   \n",
       "4     57    0   0     120   354    0        1       163     1      0.6    2   \n",
       "..   ...  ...  ..     ...   ...  ...      ...       ...   ...      ...  ...   \n",
       "298   57    0   0     140   241    0        1       123     1      0.2    1   \n",
       "299   45    1   3     110   264    0        1       132     0      1.2    1   \n",
       "300   68    1   0     144   193    1        1       141     0      3.4    1   \n",
       "301   57    1   0     130   131    0        1       115     1      1.2    1   \n",
       "302   57    0   1     130   236    0        0       174     0      0.0    1   \n",
       "\n",
       "     caa  thall  output  \n",
       "0      0      1       1  \n",
       "1      0      2       1  \n",
       "2      0      2       1  \n",
       "3      0      2       1  \n",
       "4      0      2       1  \n",
       "..   ...    ...     ...  \n",
       "298    0      3       0  \n",
       "299    0      3       0  \n",
       "300    2      3       0  \n",
       "301    1      3       0  \n",
       "302    1      2       0  \n",
       "\n",
       "[303 rows x 14 columns]"
      ]
     },
     "execution_count": 4,
     "metadata": {},
     "output_type": "execute_result"
    }
   ],
   "source": [
    "dataset"
   ]
  },
  {
   "cell_type": "code",
   "execution_count": 5,
   "id": "bd719214",
   "metadata": {},
   "outputs": [
    {
     "name": "stdout",
     "output_type": "stream",
     "text": [
      "Number of duplicate rows ::  (1, 14)\n"
     ]
    }
   ],
   "source": [
    "duplicate_rows = dataset[dataset.duplicated()]\n",
    "print(\"Number of duplicate rows :: \", duplicate_rows.shape)"
   ]
  },
  {
   "cell_type": "code",
   "execution_count": 6,
   "id": "2681a986",
   "metadata": {},
   "outputs": [
    {
     "name": "stdout",
     "output_type": "stream",
     "text": [
      "Number of duplicate rows ::  (0, 14)\n"
     ]
    }
   ],
   "source": [
    "dataset = dataset.drop_duplicates()\n",
    "duplicate_rows = dataset[dataset.duplicated()]\n",
    "print(\"Number of duplicate rows :: \", duplicate_rows.shape)"
   ]
  },
  {
   "cell_type": "code",
   "execution_count": 7,
   "id": "1ee7e019",
   "metadata": {},
   "outputs": [
    {
     "data": {
      "text/html": [
       "<div>\n",
       "<style scoped>\n",
       "    .dataframe tbody tr th:only-of-type {\n",
       "        vertical-align: middle;\n",
       "    }\n",
       "\n",
       "    .dataframe tbody tr th {\n",
       "        vertical-align: top;\n",
       "    }\n",
       "\n",
       "    .dataframe thead th {\n",
       "        text-align: right;\n",
       "    }\n",
       "</style>\n",
       "<table border=\"1\" class=\"dataframe\">\n",
       "  <thead>\n",
       "    <tr style=\"text-align: right;\">\n",
       "      <th></th>\n",
       "      <th>age</th>\n",
       "      <th>sex</th>\n",
       "      <th>cp</th>\n",
       "      <th>trtbps</th>\n",
       "      <th>chol</th>\n",
       "      <th>fbs</th>\n",
       "      <th>restecg</th>\n",
       "      <th>thalachh</th>\n",
       "      <th>exng</th>\n",
       "      <th>oldpeak</th>\n",
       "      <th>slp</th>\n",
       "      <th>caa</th>\n",
       "      <th>thall</th>\n",
       "      <th>output</th>\n",
       "    </tr>\n",
       "  </thead>\n",
       "  <tbody>\n",
       "    <tr>\n",
       "      <th>0</th>\n",
       "      <td>63</td>\n",
       "      <td>1</td>\n",
       "      <td>3</td>\n",
       "      <td>145</td>\n",
       "      <td>233</td>\n",
       "      <td>1</td>\n",
       "      <td>0</td>\n",
       "      <td>150</td>\n",
       "      <td>0</td>\n",
       "      <td>2.3</td>\n",
       "      <td>0</td>\n",
       "      <td>0</td>\n",
       "      <td>1</td>\n",
       "      <td>1</td>\n",
       "    </tr>\n",
       "    <tr>\n",
       "      <th>1</th>\n",
       "      <td>37</td>\n",
       "      <td>1</td>\n",
       "      <td>2</td>\n",
       "      <td>130</td>\n",
       "      <td>250</td>\n",
       "      <td>0</td>\n",
       "      <td>1</td>\n",
       "      <td>187</td>\n",
       "      <td>0</td>\n",
       "      <td>3.5</td>\n",
       "      <td>0</td>\n",
       "      <td>0</td>\n",
       "      <td>2</td>\n",
       "      <td>1</td>\n",
       "    </tr>\n",
       "    <tr>\n",
       "      <th>2</th>\n",
       "      <td>41</td>\n",
       "      <td>0</td>\n",
       "      <td>1</td>\n",
       "      <td>130</td>\n",
       "      <td>204</td>\n",
       "      <td>0</td>\n",
       "      <td>0</td>\n",
       "      <td>172</td>\n",
       "      <td>0</td>\n",
       "      <td>1.4</td>\n",
       "      <td>2</td>\n",
       "      <td>0</td>\n",
       "      <td>2</td>\n",
       "      <td>1</td>\n",
       "    </tr>\n",
       "    <tr>\n",
       "      <th>3</th>\n",
       "      <td>56</td>\n",
       "      <td>1</td>\n",
       "      <td>1</td>\n",
       "      <td>120</td>\n",
       "      <td>236</td>\n",
       "      <td>0</td>\n",
       "      <td>1</td>\n",
       "      <td>178</td>\n",
       "      <td>0</td>\n",
       "      <td>0.8</td>\n",
       "      <td>2</td>\n",
       "      <td>0</td>\n",
       "      <td>2</td>\n",
       "      <td>1</td>\n",
       "    </tr>\n",
       "    <tr>\n",
       "      <th>4</th>\n",
       "      <td>57</td>\n",
       "      <td>0</td>\n",
       "      <td>0</td>\n",
       "      <td>120</td>\n",
       "      <td>354</td>\n",
       "      <td>0</td>\n",
       "      <td>1</td>\n",
       "      <td>163</td>\n",
       "      <td>1</td>\n",
       "      <td>0.6</td>\n",
       "      <td>2</td>\n",
       "      <td>0</td>\n",
       "      <td>2</td>\n",
       "      <td>1</td>\n",
       "    </tr>\n",
       "    <tr>\n",
       "      <th>...</th>\n",
       "      <td>...</td>\n",
       "      <td>...</td>\n",
       "      <td>...</td>\n",
       "      <td>...</td>\n",
       "      <td>...</td>\n",
       "      <td>...</td>\n",
       "      <td>...</td>\n",
       "      <td>...</td>\n",
       "      <td>...</td>\n",
       "      <td>...</td>\n",
       "      <td>...</td>\n",
       "      <td>...</td>\n",
       "      <td>...</td>\n",
       "      <td>...</td>\n",
       "    </tr>\n",
       "    <tr>\n",
       "      <th>298</th>\n",
       "      <td>57</td>\n",
       "      <td>0</td>\n",
       "      <td>0</td>\n",
       "      <td>140</td>\n",
       "      <td>241</td>\n",
       "      <td>0</td>\n",
       "      <td>1</td>\n",
       "      <td>123</td>\n",
       "      <td>1</td>\n",
       "      <td>0.2</td>\n",
       "      <td>1</td>\n",
       "      <td>0</td>\n",
       "      <td>3</td>\n",
       "      <td>0</td>\n",
       "    </tr>\n",
       "    <tr>\n",
       "      <th>299</th>\n",
       "      <td>45</td>\n",
       "      <td>1</td>\n",
       "      <td>3</td>\n",
       "      <td>110</td>\n",
       "      <td>264</td>\n",
       "      <td>0</td>\n",
       "      <td>1</td>\n",
       "      <td>132</td>\n",
       "      <td>0</td>\n",
       "      <td>1.2</td>\n",
       "      <td>1</td>\n",
       "      <td>0</td>\n",
       "      <td>3</td>\n",
       "      <td>0</td>\n",
       "    </tr>\n",
       "    <tr>\n",
       "      <th>300</th>\n",
       "      <td>68</td>\n",
       "      <td>1</td>\n",
       "      <td>0</td>\n",
       "      <td>144</td>\n",
       "      <td>193</td>\n",
       "      <td>1</td>\n",
       "      <td>1</td>\n",
       "      <td>141</td>\n",
       "      <td>0</td>\n",
       "      <td>3.4</td>\n",
       "      <td>1</td>\n",
       "      <td>2</td>\n",
       "      <td>3</td>\n",
       "      <td>0</td>\n",
       "    </tr>\n",
       "    <tr>\n",
       "      <th>301</th>\n",
       "      <td>57</td>\n",
       "      <td>1</td>\n",
       "      <td>0</td>\n",
       "      <td>130</td>\n",
       "      <td>131</td>\n",
       "      <td>0</td>\n",
       "      <td>1</td>\n",
       "      <td>115</td>\n",
       "      <td>1</td>\n",
       "      <td>1.2</td>\n",
       "      <td>1</td>\n",
       "      <td>1</td>\n",
       "      <td>3</td>\n",
       "      <td>0</td>\n",
       "    </tr>\n",
       "    <tr>\n",
       "      <th>302</th>\n",
       "      <td>57</td>\n",
       "      <td>0</td>\n",
       "      <td>1</td>\n",
       "      <td>130</td>\n",
       "      <td>236</td>\n",
       "      <td>0</td>\n",
       "      <td>0</td>\n",
       "      <td>174</td>\n",
       "      <td>0</td>\n",
       "      <td>0.0</td>\n",
       "      <td>1</td>\n",
       "      <td>1</td>\n",
       "      <td>2</td>\n",
       "      <td>0</td>\n",
       "    </tr>\n",
       "  </tbody>\n",
       "</table>\n",
       "<p>302 rows × 14 columns</p>\n",
       "</div>"
      ],
      "text/plain": [
       "     age  sex  cp  trtbps  chol  fbs  restecg  thalachh  exng  oldpeak  slp  \\\n",
       "0     63    1   3     145   233    1        0       150     0      2.3    0   \n",
       "1     37    1   2     130   250    0        1       187     0      3.5    0   \n",
       "2     41    0   1     130   204    0        0       172     0      1.4    2   \n",
       "3     56    1   1     120   236    0        1       178     0      0.8    2   \n",
       "4     57    0   0     120   354    0        1       163     1      0.6    2   \n",
       "..   ...  ...  ..     ...   ...  ...      ...       ...   ...      ...  ...   \n",
       "298   57    0   0     140   241    0        1       123     1      0.2    1   \n",
       "299   45    1   3     110   264    0        1       132     0      1.2    1   \n",
       "300   68    1   0     144   193    1        1       141     0      3.4    1   \n",
       "301   57    1   0     130   131    0        1       115     1      1.2    1   \n",
       "302   57    0   1     130   236    0        0       174     0      0.0    1   \n",
       "\n",
       "     caa  thall  output  \n",
       "0      0      1       1  \n",
       "1      0      2       1  \n",
       "2      0      2       1  \n",
       "3      0      2       1  \n",
       "4      0      2       1  \n",
       "..   ...    ...     ...  \n",
       "298    0      3       0  \n",
       "299    0      3       0  \n",
       "300    2      3       0  \n",
       "301    1      3       0  \n",
       "302    1      2       0  \n",
       "\n",
       "[302 rows x 14 columns]"
      ]
     },
     "execution_count": 7,
     "metadata": {},
     "output_type": "execute_result"
    }
   ],
   "source": [
    "dataset"
   ]
  },
  {
   "cell_type": "markdown",
   "id": "d027fe3e",
   "metadata": {},
   "source": [
    "**TO CREATE THE FEATURE MATRIX**"
   ]
  },
  {
   "cell_type": "code",
   "execution_count": 8,
   "id": "58713852",
   "metadata": {},
   "outputs": [],
   "source": [
    "X=dataset.iloc[:,:-1].values"
   ]
  },
  {
   "cell_type": "markdown",
   "id": "20e1ce2b",
   "metadata": {},
   "source": [
    "**TO CREATE THE DEPENDENT VECTOR**"
   ]
  },
  {
   "cell_type": "code",
   "execution_count": 9,
   "id": "04de2ee1",
   "metadata": {},
   "outputs": [],
   "source": [
    "Y=dataset.iloc[:,-1].values"
   ]
  },
  {
   "cell_type": "code",
   "execution_count": 10,
   "id": "05459a55",
   "metadata": {},
   "outputs": [
    {
     "data": {
      "text/plain": [
       "array([[63.,  1.,  3., ...,  0.,  0.,  1.],\n",
       "       [37.,  1.,  2., ...,  0.,  0.,  2.],\n",
       "       [41.,  0.,  1., ...,  2.,  0.,  2.],\n",
       "       ...,\n",
       "       [68.,  1.,  0., ...,  1.,  2.,  3.],\n",
       "       [57.,  1.,  0., ...,  1.,  1.,  3.],\n",
       "       [57.,  0.,  1., ...,  1.,  1.,  2.]])"
      ]
     },
     "execution_count": 10,
     "metadata": {},
     "output_type": "execute_result"
    }
   ],
   "source": [
    "X"
   ]
  },
  {
   "cell_type": "code",
   "execution_count": 11,
   "id": "e0dc33db",
   "metadata": {},
   "outputs": [
    {
     "data": {
      "text/plain": [
       "array([1, 1, 1, 1, 1, 1, 1, 1, 1, 1, 1, 1, 1, 1, 1, 1, 1, 1, 1, 1, 1, 1,\n",
       "       1, 1, 1, 1, 1, 1, 1, 1, 1, 1, 1, 1, 1, 1, 1, 1, 1, 1, 1, 1, 1, 1,\n",
       "       1, 1, 1, 1, 1, 1, 1, 1, 1, 1, 1, 1, 1, 1, 1, 1, 1, 1, 1, 1, 1, 1,\n",
       "       1, 1, 1, 1, 1, 1, 1, 1, 1, 1, 1, 1, 1, 1, 1, 1, 1, 1, 1, 1, 1, 1,\n",
       "       1, 1, 1, 1, 1, 1, 1, 1, 1, 1, 1, 1, 1, 1, 1, 1, 1, 1, 1, 1, 1, 1,\n",
       "       1, 1, 1, 1, 1, 1, 1, 1, 1, 1, 1, 1, 1, 1, 1, 1, 1, 1, 1, 1, 1, 1,\n",
       "       1, 1, 1, 1, 1, 1, 1, 1, 1, 1, 1, 1, 1, 1, 1, 1, 1, 1, 1, 1, 1, 1,\n",
       "       1, 1, 1, 1, 1, 1, 1, 1, 1, 1, 0, 0, 0, 0, 0, 0, 0, 0, 0, 0, 0, 0,\n",
       "       0, 0, 0, 0, 0, 0, 0, 0, 0, 0, 0, 0, 0, 0, 0, 0, 0, 0, 0, 0, 0, 0,\n",
       "       0, 0, 0, 0, 0, 0, 0, 0, 0, 0, 0, 0, 0, 0, 0, 0, 0, 0, 0, 0, 0, 0,\n",
       "       0, 0, 0, 0, 0, 0, 0, 0, 0, 0, 0, 0, 0, 0, 0, 0, 0, 0, 0, 0, 0, 0,\n",
       "       0, 0, 0, 0, 0, 0, 0, 0, 0, 0, 0, 0, 0, 0, 0, 0, 0, 0, 0, 0, 0, 0,\n",
       "       0, 0, 0, 0, 0, 0, 0, 0, 0, 0, 0, 0, 0, 0, 0, 0, 0, 0, 0, 0, 0, 0,\n",
       "       0, 0, 0, 0, 0, 0, 0, 0, 0, 0, 0, 0, 0, 0, 0, 0], dtype=int64)"
      ]
     },
     "execution_count": 11,
     "metadata": {},
     "output_type": "execute_result"
    }
   ],
   "source": [
    "Y"
   ]
  },
  {
   "cell_type": "markdown",
   "id": "393456ac",
   "metadata": {},
   "source": [
    "**REPLACE THE MISSING DATA IF ANY**"
   ]
  },
  {
   "cell_type": "code",
   "execution_count": 12,
   "id": "79e86e5b",
   "metadata": {},
   "outputs": [],
   "source": [
    "from sklearn.impute import SimpleImputer\n",
    "imputer=SimpleImputer(missing_values=np.nan,strategy='mean')\n",
    "imputer.fit(X)   \n",
    "X=imputer.transform(X)"
   ]
  },
  {
   "cell_type": "code",
   "execution_count": 13,
   "id": "2af096c2",
   "metadata": {},
   "outputs": [
    {
     "data": {
      "text/plain": [
       "array([[63.,  1.,  3., ...,  0.,  0.,  1.],\n",
       "       [37.,  1.,  2., ...,  0.,  0.,  2.],\n",
       "       [41.,  0.,  1., ...,  2.,  0.,  2.],\n",
       "       ...,\n",
       "       [68.,  1.,  0., ...,  1.,  2.,  3.],\n",
       "       [57.,  1.,  0., ...,  1.,  1.,  3.],\n",
       "       [57.,  0.,  1., ...,  1.,  1.,  2.]])"
      ]
     },
     "execution_count": 13,
     "metadata": {},
     "output_type": "execute_result"
    }
   ],
   "source": [
    "X"
   ]
  },
  {
   "cell_type": "markdown",
   "id": "7c04b0c8",
   "metadata": {},
   "source": [
    "**SPLITTING THE DATA INTO TRAINING DATA AND TESTING DATA**"
   ]
  },
  {
   "cell_type": "code",
   "execution_count": 14,
   "id": "3cf7be71",
   "metadata": {},
   "outputs": [],
   "source": [
    "from sklearn.model_selection import train_test_split\n",
    "Xtrain,Xtest,Ytrain,Ytest=train_test_split(X,Y,test_size=0.2,random_state=1)"
   ]
  },
  {
   "cell_type": "code",
   "execution_count": 15,
   "id": "151c8b18",
   "metadata": {},
   "outputs": [
    {
     "data": {
      "text/plain": [
       "array([[55.,  0.,  1., ...,  2.,  0.,  2.],\n",
       "       [68.,  0.,  2., ...,  1.,  0.,  2.],\n",
       "       [46.,  0.,  0., ...,  1.,  0.,  2.],\n",
       "       ...,\n",
       "       [29.,  1.,  1., ...,  2.,  0.,  2.],\n",
       "       [58.,  1.,  0., ...,  2.,  2.,  3.],\n",
       "       [54.,  1.,  2., ...,  2.,  0.,  3.]])"
      ]
     },
     "execution_count": 15,
     "metadata": {},
     "output_type": "execute_result"
    }
   ],
   "source": [
    "Xtrain"
   ]
  },
  {
   "cell_type": "code",
   "execution_count": 16,
   "id": "8364d731",
   "metadata": {},
   "outputs": [
    {
     "data": {
      "text/plain": [
       "array([[6.00e+01, 1.00e+00, 0.00e+00, 1.30e+02, 2.06e+02, 0.00e+00,\n",
       "        0.00e+00, 1.32e+02, 1.00e+00, 2.40e+00, 1.00e+00, 2.00e+00,\n",
       "        3.00e+00],\n",
       "       [5.40e+01, 0.00e+00, 2.00e+00, 1.10e+02, 2.14e+02, 0.00e+00,\n",
       "        1.00e+00, 1.58e+02, 0.00e+00, 1.60e+00, 1.00e+00, 0.00e+00,\n",
       "        2.00e+00],\n",
       "       [3.80e+01, 1.00e+00, 2.00e+00, 1.38e+02, 1.75e+02, 0.00e+00,\n",
       "        1.00e+00, 1.73e+02, 0.00e+00, 0.00e+00, 2.00e+00, 4.00e+00,\n",
       "        2.00e+00],\n",
       "       [5.70e+01, 1.00e+00, 0.00e+00, 1.52e+02, 2.74e+02, 0.00e+00,\n",
       "        1.00e+00, 8.80e+01, 1.00e+00, 1.20e+00, 1.00e+00, 1.00e+00,\n",
       "        3.00e+00],\n",
       "       [6.40e+01, 0.00e+00, 0.00e+00, 1.80e+02, 3.25e+02, 0.00e+00,\n",
       "        1.00e+00, 1.54e+02, 1.00e+00, 0.00e+00, 2.00e+00, 0.00e+00,\n",
       "        2.00e+00],\n",
       "       [4.20e+01, 1.00e+00, 1.00e+00, 1.20e+02, 2.95e+02, 0.00e+00,\n",
       "        1.00e+00, 1.62e+02, 0.00e+00, 0.00e+00, 2.00e+00, 0.00e+00,\n",
       "        2.00e+00],\n",
       "       [6.00e+01, 1.00e+00, 0.00e+00, 1.45e+02, 2.82e+02, 0.00e+00,\n",
       "        0.00e+00, 1.42e+02, 1.00e+00, 2.80e+00, 1.00e+00, 2.00e+00,\n",
       "        3.00e+00],\n",
       "       [3.90e+01, 0.00e+00, 2.00e+00, 1.38e+02, 2.20e+02, 0.00e+00,\n",
       "        1.00e+00, 1.52e+02, 0.00e+00, 0.00e+00, 1.00e+00, 0.00e+00,\n",
       "        2.00e+00],\n",
       "       [5.80e+01, 0.00e+00, 1.00e+00, 1.36e+02, 3.19e+02, 1.00e+00,\n",
       "        0.00e+00, 1.52e+02, 0.00e+00, 0.00e+00, 2.00e+00, 2.00e+00,\n",
       "        2.00e+00],\n",
       "       [5.30e+01, 1.00e+00, 2.00e+00, 1.30e+02, 1.97e+02, 1.00e+00,\n",
       "        0.00e+00, 1.52e+02, 0.00e+00, 1.20e+00, 0.00e+00, 0.00e+00,\n",
       "        2.00e+00],\n",
       "       [5.90e+01, 1.00e+00, 3.00e+00, 1.70e+02, 2.88e+02, 0.00e+00,\n",
       "        0.00e+00, 1.59e+02, 0.00e+00, 2.00e-01, 1.00e+00, 0.00e+00,\n",
       "        3.00e+00],\n",
       "       [6.60e+01, 1.00e+00, 0.00e+00, 1.20e+02, 3.02e+02, 0.00e+00,\n",
       "        0.00e+00, 1.51e+02, 0.00e+00, 4.00e-01, 1.00e+00, 0.00e+00,\n",
       "        2.00e+00],\n",
       "       [6.40e+01, 1.00e+00, 2.00e+00, 1.25e+02, 3.09e+02, 0.00e+00,\n",
       "        1.00e+00, 1.31e+02, 1.00e+00, 1.80e+00, 1.00e+00, 0.00e+00,\n",
       "        3.00e+00],\n",
       "       [5.70e+01, 0.00e+00, 0.00e+00, 1.28e+02, 3.03e+02, 0.00e+00,\n",
       "        0.00e+00, 1.59e+02, 0.00e+00, 0.00e+00, 2.00e+00, 1.00e+00,\n",
       "        2.00e+00],\n",
       "       [6.70e+01, 0.00e+00, 2.00e+00, 1.52e+02, 2.77e+02, 0.00e+00,\n",
       "        1.00e+00, 1.72e+02, 0.00e+00, 0.00e+00, 2.00e+00, 1.00e+00,\n",
       "        2.00e+00],\n",
       "       [6.40e+01, 0.00e+00, 0.00e+00, 1.30e+02, 3.03e+02, 0.00e+00,\n",
       "        1.00e+00, 1.22e+02, 0.00e+00, 2.00e+00, 1.00e+00, 2.00e+00,\n",
       "        2.00e+00],\n",
       "       [4.80e+01, 0.00e+00, 2.00e+00, 1.30e+02, 2.75e+02, 0.00e+00,\n",
       "        1.00e+00, 1.39e+02, 0.00e+00, 2.00e-01, 2.00e+00, 0.00e+00,\n",
       "        2.00e+00],\n",
       "       [4.80e+01, 1.00e+00, 1.00e+00, 1.10e+02, 2.29e+02, 0.00e+00,\n",
       "        1.00e+00, 1.68e+02, 0.00e+00, 1.00e+00, 0.00e+00, 0.00e+00,\n",
       "        3.00e+00],\n",
       "       [6.10e+01, 0.00e+00, 0.00e+00, 1.45e+02, 3.07e+02, 0.00e+00,\n",
       "        0.00e+00, 1.46e+02, 1.00e+00, 1.00e+00, 1.00e+00, 0.00e+00,\n",
       "        3.00e+00],\n",
       "       [5.10e+01, 1.00e+00, 0.00e+00, 1.40e+02, 2.61e+02, 0.00e+00,\n",
       "        0.00e+00, 1.86e+02, 1.00e+00, 0.00e+00, 2.00e+00, 0.00e+00,\n",
       "        2.00e+00],\n",
       "       [5.10e+01, 1.00e+00, 2.00e+00, 1.10e+02, 1.75e+02, 0.00e+00,\n",
       "        1.00e+00, 1.23e+02, 0.00e+00, 6.00e-01, 2.00e+00, 0.00e+00,\n",
       "        2.00e+00],\n",
       "       [6.70e+01, 0.00e+00, 2.00e+00, 1.15e+02, 5.64e+02, 0.00e+00,\n",
       "        0.00e+00, 1.60e+02, 0.00e+00, 1.60e+00, 1.00e+00, 0.00e+00,\n",
       "        3.00e+00],\n",
       "       [5.40e+01, 0.00e+00, 2.00e+00, 1.08e+02, 2.67e+02, 0.00e+00,\n",
       "        0.00e+00, 1.67e+02, 0.00e+00, 0.00e+00, 2.00e+00, 0.00e+00,\n",
       "        2.00e+00],\n",
       "       [4.10e+01, 1.00e+00, 2.00e+00, 1.12e+02, 2.50e+02, 0.00e+00,\n",
       "        1.00e+00, 1.79e+02, 0.00e+00, 0.00e+00, 2.00e+00, 0.00e+00,\n",
       "        2.00e+00],\n",
       "       [4.90e+01, 1.00e+00, 1.00e+00, 1.30e+02, 2.66e+02, 0.00e+00,\n",
       "        1.00e+00, 1.71e+02, 0.00e+00, 6.00e-01, 2.00e+00, 0.00e+00,\n",
       "        2.00e+00],\n",
       "       [5.50e+01, 1.00e+00, 0.00e+00, 1.32e+02, 3.53e+02, 0.00e+00,\n",
       "        1.00e+00, 1.32e+02, 1.00e+00, 1.20e+00, 1.00e+00, 1.00e+00,\n",
       "        3.00e+00],\n",
       "       [4.30e+01, 1.00e+00, 0.00e+00, 1.50e+02, 2.47e+02, 0.00e+00,\n",
       "        1.00e+00, 1.71e+02, 0.00e+00, 1.50e+00, 2.00e+00, 0.00e+00,\n",
       "        2.00e+00],\n",
       "       [6.30e+01, 1.00e+00, 0.00e+00, 1.30e+02, 2.54e+02, 0.00e+00,\n",
       "        0.00e+00, 1.47e+02, 0.00e+00, 1.40e+00, 1.00e+00, 1.00e+00,\n",
       "        3.00e+00],\n",
       "       [5.40e+01, 1.00e+00, 0.00e+00, 1.20e+02, 1.88e+02, 0.00e+00,\n",
       "        1.00e+00, 1.13e+02, 0.00e+00, 1.40e+00, 1.00e+00, 1.00e+00,\n",
       "        3.00e+00],\n",
       "       [5.00e+01, 0.00e+00, 1.00e+00, 1.20e+02, 2.44e+02, 0.00e+00,\n",
       "        1.00e+00, 1.62e+02, 0.00e+00, 1.10e+00, 2.00e+00, 0.00e+00,\n",
       "        2.00e+00],\n",
       "       [6.30e+01, 0.00e+00, 0.00e+00, 1.24e+02, 1.97e+02, 0.00e+00,\n",
       "        1.00e+00, 1.36e+02, 1.00e+00, 0.00e+00, 1.00e+00, 0.00e+00,\n",
       "        2.00e+00],\n",
       "       [4.80e+01, 1.00e+00, 0.00e+00, 1.30e+02, 2.56e+02, 1.00e+00,\n",
       "        0.00e+00, 1.50e+02, 1.00e+00, 0.00e+00, 2.00e+00, 2.00e+00,\n",
       "        3.00e+00],\n",
       "       [3.40e+01, 1.00e+00, 3.00e+00, 1.18e+02, 1.82e+02, 0.00e+00,\n",
       "        0.00e+00, 1.74e+02, 0.00e+00, 0.00e+00, 2.00e+00, 0.00e+00,\n",
       "        2.00e+00],\n",
       "       [5.70e+01, 0.00e+00, 1.00e+00, 1.30e+02, 2.36e+02, 0.00e+00,\n",
       "        0.00e+00, 1.74e+02, 0.00e+00, 0.00e+00, 1.00e+00, 1.00e+00,\n",
       "        2.00e+00],\n",
       "       [5.60e+01, 1.00e+00, 2.00e+00, 1.30e+02, 2.56e+02, 1.00e+00,\n",
       "        0.00e+00, 1.42e+02, 1.00e+00, 6.00e-01, 1.00e+00, 1.00e+00,\n",
       "        1.00e+00],\n",
       "       [4.90e+01, 1.00e+00, 2.00e+00, 1.20e+02, 1.88e+02, 0.00e+00,\n",
       "        1.00e+00, 1.39e+02, 0.00e+00, 2.00e+00, 1.00e+00, 3.00e+00,\n",
       "        3.00e+00],\n",
       "       [7.00e+01, 1.00e+00, 0.00e+00, 1.30e+02, 3.22e+02, 0.00e+00,\n",
       "        0.00e+00, 1.09e+02, 0.00e+00, 2.40e+00, 1.00e+00, 3.00e+00,\n",
       "        2.00e+00],\n",
       "       [6.40e+01, 0.00e+00, 2.00e+00, 1.40e+02, 3.13e+02, 0.00e+00,\n",
       "        1.00e+00, 1.33e+02, 0.00e+00, 2.00e-01, 2.00e+00, 0.00e+00,\n",
       "        3.00e+00],\n",
       "       [5.60e+01, 1.00e+00, 0.00e+00, 1.30e+02, 2.83e+02, 1.00e+00,\n",
       "        0.00e+00, 1.03e+02, 1.00e+00, 1.60e+00, 0.00e+00, 0.00e+00,\n",
       "        3.00e+00],\n",
       "       [5.40e+01, 1.00e+00, 0.00e+00, 1.24e+02, 2.66e+02, 0.00e+00,\n",
       "        0.00e+00, 1.09e+02, 1.00e+00, 2.20e+00, 1.00e+00, 1.00e+00,\n",
       "        3.00e+00],\n",
       "       [5.60e+01, 0.00e+00, 0.00e+00, 2.00e+02, 2.88e+02, 1.00e+00,\n",
       "        0.00e+00, 1.33e+02, 1.00e+00, 4.00e+00, 0.00e+00, 2.00e+00,\n",
       "        3.00e+00],\n",
       "       [3.50e+01, 1.00e+00, 1.00e+00, 1.22e+02, 1.92e+02, 0.00e+00,\n",
       "        1.00e+00, 1.74e+02, 0.00e+00, 0.00e+00, 2.00e+00, 0.00e+00,\n",
       "        2.00e+00],\n",
       "       [5.70e+01, 1.00e+00, 1.00e+00, 1.54e+02, 2.32e+02, 0.00e+00,\n",
       "        0.00e+00, 1.64e+02, 0.00e+00, 0.00e+00, 2.00e+00, 1.00e+00,\n",
       "        2.00e+00],\n",
       "       [5.90e+01, 1.00e+00, 0.00e+00, 1.70e+02, 3.26e+02, 0.00e+00,\n",
       "        0.00e+00, 1.40e+02, 1.00e+00, 3.40e+00, 0.00e+00, 0.00e+00,\n",
       "        3.00e+00],\n",
       "       [5.70e+01, 0.00e+00, 0.00e+00, 1.20e+02, 3.54e+02, 0.00e+00,\n",
       "        1.00e+00, 1.63e+02, 1.00e+00, 6.00e-01, 2.00e+00, 0.00e+00,\n",
       "        2.00e+00],\n",
       "       [5.60e+01, 1.00e+00, 1.00e+00, 1.30e+02, 2.21e+02, 0.00e+00,\n",
       "        0.00e+00, 1.63e+02, 0.00e+00, 0.00e+00, 2.00e+00, 0.00e+00,\n",
       "        3.00e+00],\n",
       "       [6.20e+01, 1.00e+00, 1.00e+00, 1.20e+02, 2.81e+02, 0.00e+00,\n",
       "        0.00e+00, 1.03e+02, 0.00e+00, 1.40e+00, 1.00e+00, 1.00e+00,\n",
       "        3.00e+00],\n",
       "       [5.50e+01, 0.00e+00, 0.00e+00, 1.28e+02, 2.05e+02, 0.00e+00,\n",
       "        2.00e+00, 1.30e+02, 1.00e+00, 2.00e+00, 1.00e+00, 1.00e+00,\n",
       "        3.00e+00],\n",
       "       [5.40e+01, 0.00e+00, 1.00e+00, 1.32e+02, 2.88e+02, 1.00e+00,\n",
       "        0.00e+00, 1.59e+02, 1.00e+00, 0.00e+00, 2.00e+00, 1.00e+00,\n",
       "        2.00e+00],\n",
       "       [5.80e+01, 0.00e+00, 2.00e+00, 1.20e+02, 3.40e+02, 0.00e+00,\n",
       "        1.00e+00, 1.72e+02, 0.00e+00, 0.00e+00, 2.00e+00, 0.00e+00,\n",
       "        2.00e+00],\n",
       "       [5.40e+01, 1.00e+00, 2.00e+00, 1.20e+02, 2.58e+02, 0.00e+00,\n",
       "        0.00e+00, 1.47e+02, 0.00e+00, 4.00e-01, 1.00e+00, 0.00e+00,\n",
       "        3.00e+00],\n",
       "       [6.30e+01, 1.00e+00, 3.00e+00, 1.45e+02, 2.33e+02, 1.00e+00,\n",
       "        0.00e+00, 1.50e+02, 0.00e+00, 2.30e+00, 0.00e+00, 0.00e+00,\n",
       "        1.00e+00],\n",
       "       [5.20e+01, 1.00e+00, 3.00e+00, 1.18e+02, 1.86e+02, 0.00e+00,\n",
       "        0.00e+00, 1.90e+02, 0.00e+00, 0.00e+00, 1.00e+00, 0.00e+00,\n",
       "        1.00e+00],\n",
       "       [6.90e+01, 1.00e+00, 2.00e+00, 1.40e+02, 2.54e+02, 0.00e+00,\n",
       "        0.00e+00, 1.46e+02, 0.00e+00, 2.00e+00, 1.00e+00, 3.00e+00,\n",
       "        3.00e+00],\n",
       "       [4.50e+01, 0.00e+00, 0.00e+00, 1.38e+02, 2.36e+02, 0.00e+00,\n",
       "        0.00e+00, 1.52e+02, 1.00e+00, 2.00e-01, 1.00e+00, 0.00e+00,\n",
       "        2.00e+00],\n",
       "       [5.80e+01, 1.00e+00, 1.00e+00, 1.25e+02, 2.20e+02, 0.00e+00,\n",
       "        1.00e+00, 1.44e+02, 0.00e+00, 4.00e-01, 1.00e+00, 4.00e+00,\n",
       "        3.00e+00],\n",
       "       [6.00e+01, 1.00e+00, 2.00e+00, 1.40e+02, 1.85e+02, 0.00e+00,\n",
       "        0.00e+00, 1.55e+02, 0.00e+00, 3.00e+00, 1.00e+00, 0.00e+00,\n",
       "        2.00e+00],\n",
       "       [5.20e+01, 1.00e+00, 1.00e+00, 1.28e+02, 2.05e+02, 1.00e+00,\n",
       "        1.00e+00, 1.84e+02, 0.00e+00, 0.00e+00, 2.00e+00, 0.00e+00,\n",
       "        2.00e+00],\n",
       "       [5.40e+01, 1.00e+00, 1.00e+00, 1.92e+02, 2.83e+02, 0.00e+00,\n",
       "        0.00e+00, 1.95e+02, 0.00e+00, 0.00e+00, 2.00e+00, 1.00e+00,\n",
       "        3.00e+00],\n",
       "       [6.30e+01, 0.00e+00, 0.00e+00, 1.50e+02, 4.07e+02, 0.00e+00,\n",
       "        0.00e+00, 1.54e+02, 0.00e+00, 4.00e+00, 1.00e+00, 3.00e+00,\n",
       "        3.00e+00],\n",
       "       [5.10e+01, 1.00e+00, 0.00e+00, 1.40e+02, 2.99e+02, 0.00e+00,\n",
       "        1.00e+00, 1.73e+02, 1.00e+00, 1.60e+00, 2.00e+00, 0.00e+00,\n",
       "        3.00e+00]])"
      ]
     },
     "execution_count": 16,
     "metadata": {},
     "output_type": "execute_result"
    }
   ],
   "source": [
    "Xtest"
   ]
  },
  {
   "cell_type": "code",
   "execution_count": 17,
   "id": "a9ad8f0e",
   "metadata": {},
   "outputs": [
    {
     "data": {
      "text/plain": [
       "array([1, 1, 1, 0, 1, 0, 1, 0, 1, 0, 0, 1, 0, 1, 0, 1, 1, 1, 1, 1, 1, 1,\n",
       "       0, 1, 1, 1, 1, 1, 0, 1, 1, 0, 0, 0, 1, 1, 1, 0, 0, 1, 0, 0, 0, 0,\n",
       "       1, 1, 0, 0, 0, 0, 1, 1, 0, 1, 0, 0, 0, 1, 0, 1, 1, 0, 0, 1, 0, 0,\n",
       "       0, 1, 1, 0, 1, 0, 0, 1, 0, 1, 0, 0, 1, 0, 0, 1, 1, 1, 1, 1, 1, 1,\n",
       "       0, 1, 0, 1, 0, 1, 0, 0, 0, 1, 1, 0, 0, 1, 0, 1, 0, 0, 1, 0, 1, 0,\n",
       "       0, 1, 0, 0, 0, 0, 1, 0, 1, 1, 0, 1, 0, 1, 1, 1, 0, 1, 1, 0, 1, 1,\n",
       "       1, 0, 0, 1, 1, 0, 0, 1, 0, 1, 1, 0, 1, 0, 0, 1, 0, 0, 0, 0, 1, 0,\n",
       "       1, 0, 0, 1, 1, 0, 1, 0, 1, 1, 1, 0, 1, 0, 1, 1, 0, 1, 1, 0, 0, 1,\n",
       "       1, 0, 1, 1, 1, 1, 0, 1, 1, 0, 1, 1, 1, 1, 1, 0, 0, 1, 0, 1, 1, 0,\n",
       "       1, 0, 1, 1, 1, 1, 1, 1, 1, 1, 0, 1, 1, 1, 0, 0, 0, 0, 1, 1, 1, 1,\n",
       "       1, 0, 0, 1, 1, 1, 0, 0, 0, 0, 0, 0, 1, 1, 1, 1, 0, 0, 1, 0, 1],\n",
       "      dtype=int64)"
      ]
     },
     "execution_count": 17,
     "metadata": {},
     "output_type": "execute_result"
    }
   ],
   "source": [
    "Ytrain"
   ]
  },
  {
   "cell_type": "code",
   "execution_count": 18,
   "id": "d0956d1c",
   "metadata": {},
   "outputs": [
    {
     "data": {
      "text/plain": [
       "array([0, 1, 1, 0, 1, 1, 0, 1, 0, 1, 0, 1, 0, 1, 1, 1, 1, 0, 0, 1, 1, 1,\n",
       "       1, 1, 1, 0, 1, 0, 0, 1, 0, 0, 1, 0, 0, 0, 0, 1, 0, 0, 0, 1, 0, 0,\n",
       "       1, 1, 0, 0, 1, 1, 1, 1, 1, 0, 1, 1, 0, 1, 0, 0, 0], dtype=int64)"
      ]
     },
     "execution_count": 18,
     "metadata": {},
     "output_type": "execute_result"
    }
   ],
   "source": [
    "Ytest"
   ]
  },
  {
   "cell_type": "markdown",
   "id": "a91bfb79",
   "metadata": {},
   "source": [
    "**FEATURE SCALING**"
   ]
  },
  {
   "cell_type": "code",
   "execution_count": 19,
   "id": "a3fd0f21",
   "metadata": {},
   "outputs": [],
   "source": [
    "from sklearn.preprocessing import StandardScaler\n",
    "sc=StandardScaler()\n",
    "Xtrain=sc.fit_transform(Xtrain)\n",
    "Xtest=sc.fit_transform(Xtest)"
   ]
  },
  {
   "cell_type": "markdown",
   "id": "b266bfd2",
   "metadata": {},
   "source": [
    "**BUILING THE CLASSIFICATION MODEL**"
   ]
  },
  {
   "cell_type": "markdown",
   "id": "cb5da50f",
   "metadata": {},
   "source": [
    "# LOGISTIC REGRESSION MODEL"
   ]
  },
  {
   "cell_type": "code",
   "execution_count": 20,
   "id": "3873c2d2",
   "metadata": {},
   "outputs": [
    {
     "data": {
      "text/plain": [
       "LogisticRegression(random_state=0)"
      ]
     },
     "execution_count": 20,
     "metadata": {},
     "output_type": "execute_result"
    }
   ],
   "source": [
    "from sklearn.linear_model import LogisticRegression\n",
    "LC=LogisticRegression(random_state=0)\n",
    "LC.fit(Xtrain,Ytrain)"
   ]
  },
  {
   "cell_type": "code",
   "execution_count": 21,
   "id": "49671991",
   "metadata": {},
   "outputs": [
    {
     "name": "stdout",
     "output_type": "stream",
     "text": [
      "[[0 0]\n",
      " [1 1]\n",
      " [1 1]\n",
      " [0 0]\n",
      " [1 1]\n",
      " [1 1]\n",
      " [0 0]\n",
      " [1 1]\n",
      " [1 0]\n",
      " [1 1]\n",
      " [1 0]\n",
      " [0 1]\n",
      " [0 0]\n",
      " [1 1]\n",
      " [1 1]\n",
      " [0 1]\n",
      " [1 1]\n",
      " [1 0]\n",
      " [0 0]\n",
      " [1 1]\n",
      " [1 1]\n",
      " [1 1]\n",
      " [1 1]\n",
      " [1 1]\n",
      " [1 1]\n",
      " [0 0]\n",
      " [1 1]\n",
      " [0 0]\n",
      " [0 0]\n",
      " [1 1]\n",
      " [1 0]\n",
      " [0 0]\n",
      " [1 1]\n",
      " [1 0]\n",
      " [1 0]\n",
      " [0 0]\n",
      " [0 0]\n",
      " [1 1]\n",
      " [0 0]\n",
      " [0 0]\n",
      " [0 0]\n",
      " [1 1]\n",
      " [1 0]\n",
      " [0 0]\n",
      " [1 1]\n",
      " [1 1]\n",
      " [0 0]\n",
      " [0 0]\n",
      " [1 1]\n",
      " [1 1]\n",
      " [1 1]\n",
      " [1 1]\n",
      " [1 1]\n",
      " [0 0]\n",
      " [1 1]\n",
      " [0 1]\n",
      " [1 0]\n",
      " [1 1]\n",
      " [1 0]\n",
      " [0 0]\n",
      " [0 0]]\n"
     ]
    }
   ],
   "source": [
    "Yestimated=LC.predict(Xtest)\n",
    "print(np.concatenate((Yestimated.reshape(len(Yestimated),1),Ytest.reshape(len(Ytest),1)),1))"
   ]
  },
  {
   "cell_type": "code",
   "execution_count": 22,
   "id": "b6d57d2e",
   "metadata": {},
   "outputs": [
    {
     "data": {
      "text/plain": [
       "array([0, 1, 1, 0, 1, 1, 0, 1, 1, 1, 1, 0, 0, 1, 1, 0, 1, 1, 0, 1, 1, 1,\n",
       "       1, 1, 1, 0, 1, 0, 0, 1, 1, 0, 1, 1, 1, 0, 0, 1, 0, 0, 0, 1, 1, 0,\n",
       "       1, 1, 0, 0, 1, 1, 1, 1, 1, 0, 1, 0, 1, 1, 1, 0, 0], dtype=int64)"
      ]
     },
     "execution_count": 22,
     "metadata": {},
     "output_type": "execute_result"
    }
   ],
   "source": [
    "Yestimated"
   ]
  },
  {
   "cell_type": "code",
   "execution_count": 23,
   "id": "490ec356",
   "metadata": {},
   "outputs": [
    {
     "name": "stdout",
     "output_type": "stream",
     "text": [
      "[[20  9]\n",
      " [ 3 29]]\n"
     ]
    }
   ],
   "source": [
    "from sklearn.metrics import confusion_matrix\n",
    "cm=confusion_matrix(Ytest,Yestimated)\n",
    "print(cm)"
   ]
  },
  {
   "cell_type": "markdown",
   "id": "1b55a748",
   "metadata": {},
   "source": [
    "**VISUALIZATION OF CONFUSION MATRIX**"
   ]
  },
  {
   "cell_type": "code",
   "execution_count": 24,
   "id": "4deece51",
   "metadata": {},
   "outputs": [
    {
     "data": {
      "text/plain": [
       "<AxesSubplot:title={'center':'Confusion Matrix for Classification'}>"
      ]
     },
     "execution_count": 24,
     "metadata": {},
     "output_type": "execute_result"
    },
    {
     "data": {
      "image/png": "[encoded data removed]",
      "text/plain": [
       "<Figure size 432x288 with 2 Axes>"
      ]
     },
     "metadata": {
      "needs_background": "light"
     },
     "output_type": "display_data"
    }
   ],
   "source": [
    "import seaborn as sns\n",
    "plt.xlabel('Predited labels')\n",
    "plt.ylabel('Actual')\n",
    "plt.title('Confusion Matrix for Classification')\n",
    "sns.heatmap(cm,annot=True,cmap= 'coolwarm')"
   ]
  },
  {
   "cell_type": "markdown",
   "id": "0c64955a",
   "metadata": {},
   "source": [
    "**ACCURACY SCORE**"
   ]
  },
  {
   "cell_type": "code",
   "execution_count": 25,
   "id": "ecaf464f",
   "metadata": {},
   "outputs": [
    {
     "name": "stdout",
     "output_type": "stream",
     "text": [
      "0.8032786885245902\n"
     ]
    }
   ],
   "source": [
    "from sklearn.metrics import accuracy_score\n",
    "print(accuracy_score(Ytest,Yestimated))"
   ]
  },
  {
   "cell_type": "markdown",
   "id": "e2f56a2d",
   "metadata": {},
   "source": [
    "**PRECISiON SCORE**"
   ]
  },
  {
   "cell_type": "code",
   "execution_count": 26,
   "id": "5f6aee51",
   "metadata": {},
   "outputs": [
    {
     "name": "stdout",
     "output_type": "stream",
     "text": [
      "0.7631578947368421\n"
     ]
    }
   ],
   "source": [
    "from sklearn.metrics import precision_score\n",
    "print(precision_score(Ytest,Yestimated))"
   ]
  },
  {
   "cell_type": "markdown",
   "id": "fc7c4b9c",
   "metadata": {},
   "source": [
    "# 2.USING THE KNN MODEL"
   ]
  },
  {
   "cell_type": "code",
   "execution_count": 27,
   "id": "714c79e9",
   "metadata": {},
   "outputs": [
    {
     "data": {
      "text/plain": [
       "KNeighborsClassifier()"
      ]
     },
     "execution_count": 27,
     "metadata": {},
     "output_type": "execute_result"
    }
   ],
   "source": [
    "from sklearn.neighbors import KNeighborsClassifier\n",
    "KC=KNeighborsClassifier(n_neighbors=5,weights='uniform',p=2)\n",
    "KC.fit(Xtrain,Ytrain)"
   ]
  },
  {
   "cell_type": "markdown",
   "id": "0ca22993",
   "metadata": {},
   "source": [
    "**PREDICT THE CLASSIFICATION MODEL**"
   ]
  },
  {
   "cell_type": "code",
   "execution_count": 28,
   "id": "7bcacaa0",
   "metadata": {},
   "outputs": [],
   "source": [
    "Yestimated=KC.predict(Xtest)"
   ]
  },
  {
   "cell_type": "code",
   "execution_count": 29,
   "id": "9d672c09",
   "metadata": {},
   "outputs": [
    {
     "data": {
      "text/plain": [
       "array([0, 1, 1, 0, 1, 1, 0, 1, 1, 1, 0, 1, 0, 1, 1, 0, 1, 1, 0, 1, 1, 1,\n",
       "       1, 1, 1, 0, 1, 0, 0, 1, 1, 0, 1, 1, 0, 0, 0, 1, 0, 0, 0, 1, 1, 0,\n",
       "       1, 1, 0, 0, 1, 1, 0, 1, 1, 0, 1, 0, 0, 1, 1, 0, 1], dtype=int64)"
      ]
     },
     "execution_count": 29,
     "metadata": {},
     "output_type": "execute_result"
    }
   ],
   "source": [
    "Yestimated"
   ]
  },
  {
   "cell_type": "markdown",
   "id": "16d3fdcc",
   "metadata": {},
   "source": [
    "**PERFORMANCE MATRIX**"
   ]
  },
  {
   "cell_type": "code",
   "execution_count": 30,
   "id": "228806a8",
   "metadata": {},
   "outputs": [
    {
     "name": "stdout",
     "output_type": "stream",
     "text": [
      "[[22  7]\n",
      " [ 3 29]]\n"
     ]
    }
   ],
   "source": [
    "from sklearn.metrics import confusion_matrix\n",
    "cm=confusion_matrix(Ytest,Yestimated)\n",
    "print(cm)"
   ]
  },
  {
   "cell_type": "code",
   "execution_count": 39,
   "id": "96f9de46",
   "metadata": {},
   "outputs": [
    {
     "data": {
      "text/plain": [
       "<AxesSubplot:title={'center':'Confusion Matrix for KNN Model'}>"
      ]
     },
     "execution_count": 39,
     "metadata": {},
     "output_type": "execute_result"
    },
    {
     "data": {
      "image/png": "[encoded data removed]",
      "text/plain": [
       "<Figure size 432x288 with 2 Axes>"
      ]
     },
     "metadata": {
      "needs_background": "light"
     },
     "output_type": "display_data"
    }
   ],
   "source": [
    "import seaborn as sns\n",
    "plt.xlabel('Predited labels')\n",
    "plt.ylabel('Actual')\n",
    "plt.title('Confusion Matrix for KNN Model')\n",
    "sns.heatmap(cm,annot=True,cmap= 'coolwarm')"
   ]
  },
  {
   "cell_type": "markdown",
   "id": "0e28fed3",
   "metadata": {},
   "source": [
    "**ACCURACY SCORE**"
   ]
  },
  {
   "cell_type": "code",
   "execution_count": 32,
   "id": "5b09a3fb",
   "metadata": {},
   "outputs": [
    {
     "name": "stdout",
     "output_type": "stream",
     "text": [
      "0.8360655737704918\n"
     ]
    }
   ],
   "source": [
    "from sklearn.metrics import accuracy_score\n",
    "print(accuracy_score(Ytest,Yestimated))"
   ]
  },
  {
   "cell_type": "markdown",
   "id": "13f825e4",
   "metadata": {},
   "source": [
    "**PRECISiON SCORE**"
   ]
  },
  {
   "cell_type": "code",
   "execution_count": 33,
   "id": "8399a4d3",
   "metadata": {},
   "outputs": [
    {
     "name": "stdout",
     "output_type": "stream",
     "text": [
      "0.8055555555555556\n"
     ]
    }
   ],
   "source": [
    "from sklearn.metrics import precision_score\n",
    "print(precision_score(Ytest,Yestimated))"
   ]
  },
  {
   "cell_type": "code",
   "execution_count": 34,
   "id": "81a25ed8",
   "metadata": {},
   "outputs": [],
   "source": [
    "error_rate=[]\n",
    "for i in range(1,30):\n",
    "    KC=KNeighborsClassifier(n_neighbors=i)\n",
    "    KC.fit(Xtrain,Ytrain)\n",
    "    Ypred_i=KC.predict(Xtest)\n",
    "    error_rate.append(np.mean(Ypred_i!=Ytest))"
   ]
  },
  {
   "cell_type": "markdown",
   "id": "98192007",
   "metadata": {},
   "source": [
    "**VISUALISATION**"
   ]
  },
  {
   "cell_type": "code",
   "execution_count": null,
   "id": "3ac61aaf",
   "metadata": {},
   "outputs": [],
   "source": [
    "plt.plot(range(1,30),error_rate)"
   ]
  },
  {
   "cell_type": "markdown",
   "id": "02bd4af4",
   "metadata": {},
   "source": [
    "**CALCULATION OF ERROR RATE**"
   ]
  },
  {
   "cell_type": "code",
   "execution_count": 35,
   "id": "faf3d1f0",
   "metadata": {},
   "outputs": [
    {
     "data": {
      "text/plain": [
       "Text(0, 0.5, 'Error Rate')"
      ]
     },
     "execution_count": 35,
     "metadata": {},
     "output_type": "execute_result"
    },
    {
     "data": {
      "image/png": "[encoded data removed]",
      "text/plain": [
       "<Figure size 432x288 with 1 Axes>"
      ]
     },
     "metadata": {
      "needs_background": "light"
     },
     "output_type": "display_data"
    }
   ],
   "source": [
    "plt.plot(range(1,30),error_rate,color='green', marker='o',\n",
    "         markerfacecolor='red', markersize=6)\n",
    "plt.title('Error Rate vs. K Value')\n",
    "plt.xlabel('K')\n",
    "plt.ylabel('Error Rate')"
   ]
  },
  {
   "cell_type": "markdown",
   "id": "095370a3",
   "metadata": {},
   "source": [
    "**FIRST A QUICK COMPARISON TO OUR ORIGINAL K=1**"
   ]
  },
  {
   "cell_type": "code",
   "execution_count": 36,
   "id": "86f9d204",
   "metadata": {},
   "outputs": [
    {
     "name": "stdout",
     "output_type": "stream",
     "text": [
      "WITH K=1\n",
      "\n",
      "\n",
      "[[22  7]\n",
      " [ 3 29]]\n",
      "\n",
      "\n"
     ]
    }
   ],
   "source": [
    "knn = KNeighborsClassifier(n_neighbors=5)\n",
    "knn.fit(Xtrain,Ytrain)\n",
    "pred = knn.predict(Xtest)\n",
    "print('WITH K=1')\n",
    "print('\\n')\n",
    "print(confusion_matrix(Ytest,pred))\n",
    "print('\\n')\n"
   ]
  },
  {
   "cell_type": "code",
   "execution_count": 37,
   "id": "d6409ec9",
   "metadata": {},
   "outputs": [
    {
     "name": "stdout",
     "output_type": "stream",
     "text": [
      "0.8360655737704918\n"
     ]
    }
   ],
   "source": [
    "\n",
    "print(accuracy_score(Ytest,Yestimated))"
   ]
  },
  {
   "cell_type": "code",
   "execution_count": 38,
   "id": "fb939daf",
   "metadata": {},
   "outputs": [
    {
     "name": "stdout",
     "output_type": "stream",
     "text": [
      "0.8055555555555556\n"
     ]
    }
   ],
   "source": [
    "\n",
    "print(precision_score(Ytest,Yestimated))"
   ]
  },
  {
   "cell_type": "code",
   "execution_count": null,
   "id": "9607f303",
   "metadata": {},
   "outputs": [],
   "source": []
  }
 ],
 "metadata": {
  "kernelspec": {
   "display_name": "Python 3",
   "language": "python",
   "name": "python3"
  },
  "language_info": {
   "codemirror_mode": {
    "name": "ipython",
    "version": 3
   },
   "file_extension": ".py",
   "mimetype": "text/x-python",
   "name": "python",
   "nbconvert_exporter": "python",
   "pygments_lexer": "ipython3",
   "version": "3.8.8"
  }
 },
 "nbformat": 4,
 "nbformat_minor": 5
}
